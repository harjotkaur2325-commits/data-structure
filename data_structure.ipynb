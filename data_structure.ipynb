{
  "nbformat": 4,
  "nbformat_minor": 0,
  "metadata": {
    "colab": {
      "provenance": []
    },
    "kernelspec": {
      "name": "python3",
      "display_name": "Python 3"
    },
    "language_info": {
      "name": "python"
    }
  },
  "cells": [
    {
      "cell_type": "markdown",
      "source": [
        "**data structure**\n",
        "\n",
        "1. What are data structures, and why are they important?\n",
        " - Data structures is a way of orgranizing,storing, and managing data in a computer so that it can be used efficiently. it just like a container that hold data and determine how  we can interact with it.\n",
        " - why they important --\n",
        "  -  simpilfy data manipulation.\n",
        "  - optimize searching and sorting operations\n",
        "  - helps in efficient sotrage and mannagement.\n",
        "\n",
        "\n",
        "---\n",
        "\n",
        "2. Explain the difference between mutable and immutable data types with examples.\n",
        " - **mutable datatype** - these are the data types whose values can be changed after they are created. As we can remove,add,modify elements.\n",
        " example - lists, dictionaries , sets\n",
        " list1 = [ 1,2,3,4,5]\n",
        " list1[0] = 9\n",
        " print(list1)  {it will change the index 0 which is 1 but after doing modification it change into 9}\n",
        " - **immutable datatype** - These are the data types whosse values cannot be changed once they create. any change creates a new object in memory. oridinal object remains unchanged. example - strings,tuples\n",
        " my_tuple = (1,5,6)\n",
        " my_tuple[0] = 8\n",
        "   print (my_tuple)   { it show an error because tuple are immutable we cannot cahnge them once the create.}\n",
        "\n",
        "\n",
        "---\n",
        "3.What are the main differences between lists and tuples in Python?\n",
        " -  **lists**\n",
        " 1. lists are mutable means these can be changed once they create.\n",
        " 2. syntax - uses square brackets []\n",
        " 3. proformance -  slower than for iteration because it's mutable.\n",
        " 4.usage - when you need a collection that may change\n",
        " - **tuples**\n",
        " 1. tuples are immutable means thesse cannot be changed after they create.\n",
        " 2. syntax = uses parentheses ()\n",
        " 3. profromance - faster and more memory- efficient because it's immutable.\n",
        " 4. usage - when you need a fixed collection pr want to protect data from changes.\n",
        "\n",
        "---\n",
        "4.Describe how dictionaries store data?\n",
        " - Dictionaries are store in the form of key-value pairs.\n",
        "Each key maps to a specific value, allowing quick and efficient data retrieval using that key.\n",
        " dictionarie uses has table under the hood\n",
        " - firstly , each key is passed through the hash function , that convert the key into hash value.\n",
        " - This hash value decides where the key-value has stored in the memory.\n",
        " - When you search a key, Python calculates its hash again and goes directly to that memory slot — this makes dictionary lookups very fast.\n",
        "\n",
        "\n",
        "---\n",
        "5. Why might you use a set instead of a list in Python?\n",
        " - we use set instead of list when we want to store unique items and donot care about the order of the elements.In other words, when we need to remove the duplicate values from the list quickly.\n",
        "\n",
        "\n",
        "---\n",
        "6. What is a string in Python, and how is it different from a list?\n",
        " - Well, string is the collection of charaters enclose in quotes - either single ('') or double(\"\"). it is used to represent the text.if we talk about the difference between lists and string is :\n",
        " 1. string is sequence of characters but list is a collection of different data types like numbers, string etc.\n",
        " 2. string: syntax is enclose in quotes while list : syntax is square brackets[].\n",
        " 3. string is immutable . However list is mutable.\n",
        "\n",
        "\n",
        "---\n",
        "7.  How do tuples ensure data integrity in Python?\n",
        " - Tuples help ensure data integrity in python mainly because they are immutable -  means their contents cannot be changed after creation. as we cannot modify,add, or remove its elements , this will protects data from accidental changes during program execution. hence, this will ensure that critical data remains unchanged.\n",
        "\n",
        "\n",
        "---\n",
        "8. What is a hash table, and how does it relate to dictionaries in Python?\n",
        " - **hash table** - It is a dat structure that stores key- value pairs and allows fast access of data.\n",
        " - It works by using the hash fuction that conversts the key into unique index also called has value where the data is stored in memory.\n",
        " breifly looking how it realtes to dictionaries: firstly, python takes a key then that key will run through a hash fuction which converts the key into hash value(get a number) which is directly goes to the memory slot and fetches the value.\n",
        "\n",
        "---\n",
        "9. Can lists contain different data types in Python?\n",
        "- yes , as list is the collection of hetergeous data types like string , int ,float, bool . example-- [\"ajay\",1,2,3.3,True,False]\n",
        "\n",
        "\n",
        "---\n",
        "10. Explain why strings are immutable in Python?\n",
        " - there are some reason behind it -\n",
        " 1. To protect your data from accidental change: python store identical strings only once in memory, if it is mutable , changing one would accidentally change all copies that refer to it.\n",
        " 2. to make programs faster and safer : Strings are often use for indentifiers, file paths, and key in dictionaries. If they could change, it would cause serious bugs or data corruption.\n",
        " 3.to allow strings to be used as dictionary keys.\n",
        "\n",
        "\n",
        "---\n",
        "11. What advantages do dictionaries offer over lists for certain tasks?\n",
        " - Dictionaries offer many advantages over lists for certain types of tasks such as-\n",
        " 1. when we want to store data as key-value pairs.\n",
        " 2. when we need fast lookups, as searching by key is fast using hash table as compare to the list searching.\n",
        " 3. when we wat the data more meaningful then we use dictiornaries because in list  data is less descriptive .\n",
        " 4. lastly, you do not want duplicates as dictionaries have keys those are unqiue which will helps in data integrity.\n",
        "\n",
        "\n",
        "---\n",
        "12. Describe a scenario where using a tuple would be preferable over a list?\n",
        " - Mostly, tuples are used when you want that data should not change and faster access for example, in a company we record the database of employee in which the joining date of an employee can be stored in a tuple,beacuse it's fixed(joining date never change once recorded).it helps protect the data integrity.\n",
        "\n",
        "\n",
        "\n",
        "---\n",
        "\n",
        "\n",
        "13.How do sets handle duplicate values in Python?\n",
        " - sets is the collection of unqiue values. when duplicate values are present in the set , then set automatically remove the duplicates and keep unqiue elements. hash table also play an important role in sets as well . when set is create ,python interally uses a hash table to store vlaues. Each element's hash value is used to determine if it's alreday in the set. if a new element has a samne hash value as  existing one ,python will ingore it.\n",
        "\n",
        "\n",
        "---\n",
        "14. How does the “in” keyword work differently for lists and dictionaries?\n",
        "-  1. in for lists - when we use 'in' with list, python checks the wether the element present in the list- it searching through elements one by one. python look at each element in the list until it find the match. this means it is time consuming.\n",
        " -  2. in for dictionaries - when we use 'in' for dictionaries, it checks wther the key exists. it check only keys not the values . this helps in fater lookups.\n",
        "\n",
        "\n",
        "---\n",
        "\n",
        "\n",
        "15. Can you modify the elements of a tuple? Explain why or why not?\n",
        " - well, tuples are immutable dat structure , means you can not modify, remove or add any elements from tuples. python store tuples in fixed memory  , you tuple become mutable it may use bugs and data corruption which will diractly harms to data integrity, and performance of tuple get slower because of modification.\n",
        "\n",
        "---\n",
        "\n",
        "16. What is a nested dictionary, and give an example of its use case?\n",
        "\n",
        "\n",
        " - Nested dictionary means  dictionary inside another dictionary. it is used when you want to store complex,structured data - like object that have multiple level of details. for exmaple , the employee database , as we have a dictionary name employee and inside it have a key with employee ID , which have another dictionary that holding the employee details.\n",
        " employee = { \"EOO1\" :{\"name\":\"raman\", \"age\": 25, \"department\": \"IT\"}}\n",
        "\n",
        "---\n",
        "17. Describe the time complexity of accessing elements in a dictionary?\n",
        " - dictionary is built uding hashing . so the accessing elements in a dictionary is very fast . you can direclty search the key using hashing without seacrhing all the keys and values.\n",
        "\n",
        "\n",
        "---\n",
        "18. In what situations are lists preferred over dictionaries?\n",
        " - 1. when the sequence of items is important, as list keep elements in a fixed order(indexed-based).\n",
        "  2. when you only need values not need keys.\n",
        "  3. when memory efficency matters, as list require less memory than dictionaries for the same number of items.\n",
        "  4. when you need to main duplicates , as dictionary cnnot allow dulpicates.\n",
        "\n",
        "---\n",
        "\n",
        "19. Why are dictionaries considered unordered, and how does that affect data retrieval?\n",
        " - dictionaries considered unoredered means that the elements not stored in sequence position , as it is stored based on key hashing. As a result, you cannot retrieve the elements by position. if you want to retrieve the element it must be done using keys which make retrievel fast (O(1)). python directly jumps to the slot using the key hashing .\n",
        "\n",
        "---\n",
        "20.  Explain the difference between a list and a dictionary in terms of data retrieval.\n",
        " - How list retrieve data - list store data ina sequence . Each item has an index value starting from 0. retrieval of data is index based. like number[45,63,8] , print(number[1]) #output 63\n",
        "  - How dictionary retrieve data -  dictioanry is using the hash table table to store the keys. so data retrieval is key based in dictionary . you can acces data by using key. dic = {\"name\": \"alice\" , \"age\":21} , print(dict[\"name\"]) # output = \"alice\"\n",
        "  retrievel time complexity:\n",
        "  - O(1) on average because hashing jumps directly to the value.\n",
        "\n",
        "\n",
        "\n",
        "\n",
        "\n",
        "\n",
        "\n",
        "\n",
        "\n",
        "\n",
        "\n",
        "\n",
        "\n",
        "\n",
        "\n",
        "\n",
        "\n"
      ],
      "metadata": {
        "id": "wg1wmrHVvgjn"
      }
    },
    {
      "cell_type": "code",
      "source": [
        "# 1. Write a code to create a string with your name and print it\n",
        "name = \"alice\"\n",
        "print(name)"
      ],
      "metadata": {
        "colab": {
          "base_uri": "https://localhost:8080/"
        },
        "id": "3d8InM0vcJEQ",
        "outputId": "973ecfe4-6cc8-4978-9d0f-0972b1cc8eed"
      },
      "execution_count": 2,
      "outputs": [
        {
          "output_type": "stream",
          "name": "stdout",
          "text": [
            "alice\n"
          ]
        }
      ]
    },
    {
      "cell_type": "code",
      "source": [
        "#2. Write a code to find the length of the string \"Hello World\"\n",
        "string = \"Hello World\"\n",
        "print(len(string))"
      ],
      "metadata": {
        "colab": {
          "base_uri": "https://localhost:8080/"
        },
        "id": "Rf4GcyOD33G5",
        "outputId": "ebdc0414-0737-4a74-c814-1a61fe6c8de5"
      },
      "execution_count": 3,
      "outputs": [
        {
          "output_type": "stream",
          "name": "stdout",
          "text": [
            "11\n"
          ]
        }
      ]
    },
    {
      "cell_type": "code",
      "source": [
        "# 3. Write a code to slice the first 3 characters from the string \"Python Programming\"\n",
        "string = \"Python Programming\"\n",
        "print(string[0:3])"
      ],
      "metadata": {
        "colab": {
          "base_uri": "https://localhost:8080/"
        },
        "id": "E9Fv1Wn94Zq8",
        "outputId": "d9ac69a6-f927-43b3-9e7d-6b71f24dc47e"
      },
      "execution_count": 4,
      "outputs": [
        {
          "output_type": "stream",
          "name": "stdout",
          "text": [
            "Pyt\n"
          ]
        }
      ]
    },
    {
      "cell_type": "code",
      "source": [
        "#4. Write a code to convert the string \"hello\" to uppercase\n",
        "string = \"hello\"\n",
        "print(string.upper())"
      ],
      "metadata": {
        "colab": {
          "base_uri": "https://localhost:8080/"
        },
        "id": "NyOAGzVW4Z3-",
        "outputId": "4008659a-e89b-4a31-fa45-97b3d4b6ae58"
      },
      "execution_count": 5,
      "outputs": [
        {
          "output_type": "stream",
          "name": "stdout",
          "text": [
            "HELLO\n"
          ]
        }
      ]
    },
    {
      "cell_type": "code",
      "source": [
        "# 5.Write a code to replace the word \"apple\" with \"orange\" in the string \"I like apple\"\n",
        "string = \"I Like apple\"\n",
        "print(string.replace(\"apple\",\"orange\"))"
      ],
      "metadata": {
        "colab": {
          "base_uri": "https://localhost:8080/"
        },
        "id": "s1xLdbin4Z62",
        "outputId": "98643b44-6f6f-4a38-9727-1890e61d86f4"
      },
      "execution_count": 6,
      "outputs": [
        {
          "output_type": "stream",
          "name": "stdout",
          "text": [
            "I Like orange\n"
          ]
        }
      ]
    },
    {
      "cell_type": "code",
      "source": [
        "# 6.Write a code to create a list with numbers 1 to 5 and print it\n",
        "list = [1,2,3,4,5]\n",
        "print(list)"
      ],
      "metadata": {
        "colab": {
          "base_uri": "https://localhost:8080/"
        },
        "id": "Lq_oJNyl4Z9d",
        "outputId": "5fdc2095-d9a9-46d7-b728-1d6fab450413"
      },
      "execution_count": 7,
      "outputs": [
        {
          "output_type": "stream",
          "name": "stdout",
          "text": [
            "[1, 2, 3, 4, 5]\n"
          ]
        }
      ]
    },
    {
      "cell_type": "code",
      "source": [
        "# 7.  Write a code to append the number 10 to the list [1, 2, 3, 4]\n",
        "list = [1,2,3,4]\n",
        "list.append(10)\n",
        "print(list)"
      ],
      "metadata": {
        "colab": {
          "base_uri": "https://localhost:8080/"
        },
        "id": "noKxbe-24aAH",
        "outputId": "0f0e0560-9572-48de-bf53-a2d19b5bda6c"
      },
      "execution_count": 8,
      "outputs": [
        {
          "output_type": "stream",
          "name": "stdout",
          "text": [
            "[1, 2, 3, 4, 10]\n"
          ]
        }
      ]
    },
    {
      "cell_type": "code",
      "source": [
        "#8. Write a code to remove the number 3 from the list [1, 2, 3, 4, 5]\n",
        "list =  [1,2,3,4,5]\n",
        "list.remove(3)\n",
        "print(list)"
      ],
      "metadata": {
        "colab": {
          "base_uri": "https://localhost:8080/"
        },
        "id": "p5CuGJoj4aCs",
        "outputId": "91d904da-b830-4e19-f29f-8d4b4bce9db6"
      },
      "execution_count": 10,
      "outputs": [
        {
          "output_type": "stream",
          "name": "stdout",
          "text": [
            "[1, 2, 4, 5]\n"
          ]
        }
      ]
    },
    {
      "cell_type": "code",
      "source": [
        "# 9. Write a code to access the second element in the list ['a', 'b', 'c', 'd']\n",
        "list = ['a', 'b','c','d']\n",
        "print(list[1])"
      ],
      "metadata": {
        "colab": {
          "base_uri": "https://localhost:8080/"
        },
        "id": "51DM4o0K4aF6",
        "outputId": "34398432-4fb8-4a13-e000-4fcfb67d0452"
      },
      "execution_count": 11,
      "outputs": [
        {
          "output_type": "stream",
          "name": "stdout",
          "text": [
            "b\n"
          ]
        }
      ]
    },
    {
      "cell_type": "code",
      "source": [
        "# 10.Write a code to reverse the list [10, 20, 30, 40, 50].\n",
        "list = [10, 20, 30, 40, 50]\n",
        "print(list[::-1])"
      ],
      "metadata": {
        "colab": {
          "base_uri": "https://localhost:8080/"
        },
        "id": "lE__Xtwd4aIB",
        "outputId": "66d6acd2-6d83-4993-a0d9-4dc39eadff87"
      },
      "execution_count": 13,
      "outputs": [
        {
          "output_type": "stream",
          "name": "stdout",
          "text": [
            "[50, 40, 30, 20, 10]\n"
          ]
        }
      ]
    },
    {
      "cell_type": "code",
      "source": [
        "#11. Write a code to create a tuple with the elements 100, 200, 300 and print it\n",
        "tuple = (100,200,300)\n",
        "print(tuple)"
      ],
      "metadata": {
        "colab": {
          "base_uri": "https://localhost:8080/"
        },
        "id": "AAw8ZHHP4aKs",
        "outputId": "714610dd-952d-48ec-876c-b521e21d4657"
      },
      "execution_count": 14,
      "outputs": [
        {
          "output_type": "stream",
          "name": "stdout",
          "text": [
            "(100, 200, 300)\n"
          ]
        }
      ]
    },
    {
      "cell_type": "code",
      "source": [
        "#12. Write a code to access the second-to-last element of the tuple ('red', 'green', 'blue', 'yellow').\n",
        "tuple =  ('red', 'green', 'blue', 'yellow')\n",
        "print(tuple[-2])"
      ],
      "metadata": {
        "colab": {
          "base_uri": "https://localhost:8080/"
        },
        "id": "vftRfOiE4aNo",
        "outputId": "381038de-67de-44fb-d5bc-a70cce178a9d"
      },
      "execution_count": 16,
      "outputs": [
        {
          "output_type": "stream",
          "name": "stdout",
          "text": [
            "blue\n"
          ]
        }
      ]
    },
    {
      "cell_type": "code",
      "source": [
        "# 13. Write a code to find the minimum number in the tuple (10, 20, 5, 15)\n",
        "tuple = (10, 20, 5, 15)\n",
        "print(min(tuple))"
      ],
      "metadata": {
        "colab": {
          "base_uri": "https://localhost:8080/"
        },
        "id": "iRADLj754aQv",
        "outputId": "96ad4351-8cd8-4c40-f4f1-2a6eb1e3a8bc"
      },
      "execution_count": 17,
      "outputs": [
        {
          "output_type": "stream",
          "name": "stdout",
          "text": [
            "5\n"
          ]
        }
      ]
    },
    {
      "cell_type": "code",
      "source": [
        "# 14. Write a code to find the index of the element \"cat\" in the tuple ('dog', 'cat', 'rabbit')\n",
        "tuple = ('dog', 'cat', 'rabbit')\n",
        "print(tuple.index(\"cat\"))"
      ],
      "metadata": {
        "colab": {
          "base_uri": "https://localhost:8080/"
        },
        "id": "1kjb8Hms4aTY",
        "outputId": "dc2bf9ee-cdd9-4bba-fa5f-df1ab2cc1ace"
      },
      "execution_count": 18,
      "outputs": [
        {
          "output_type": "stream",
          "name": "stdout",
          "text": [
            "1\n"
          ]
        }
      ]
    },
    {
      "cell_type": "code",
      "source": [
        "# 15. Write a code to create a tuple containing three different fruits and check if \"kiwi\" is in it.\n",
        "fruits = (\"apple\", \"banana\", \"orange\", \"kiwi\")\n",
        "\"kiwi\" in fruits\n",
        "\n",
        ""
      ],
      "metadata": {
        "colab": {
          "base_uri": "https://localhost:8080/"
        },
        "id": "HyyA-RuI4aWd",
        "outputId": "545aabff-53dc-4b85-c559-f08c15ec2176"
      },
      "execution_count": 22,
      "outputs": [
        {
          "output_type": "execute_result",
          "data": {
            "text/plain": [
              "True"
            ]
          },
          "metadata": {},
          "execution_count": 22
        }
      ]
    },
    {
      "cell_type": "code",
      "source": [
        "# 16.  Write a code to create a set with the elements 'a', 'b', 'c' and print it.\n",
        "set1 = {\"a\",\"b\",\"c\"}\n",
        "print(set1)"
      ],
      "metadata": {
        "colab": {
          "base_uri": "https://localhost:8080/"
        },
        "id": "TqXsK4Jf4aZ2",
        "outputId": "e1ee2060-805f-499e-a9d4-f86c88fd9edd"
      },
      "execution_count": 26,
      "outputs": [
        {
          "output_type": "stream",
          "name": "stdout",
          "text": [
            "{'c', 'a', 'b'}\n"
          ]
        }
      ]
    },
    {
      "cell_type": "code",
      "source": [
        "#17.Write a code to clear all elements from the set {1, 2, 3, 4, 5}.\n",
        "set2 = {1, 2, 3, 4, 5}\n",
        "set2.clear()\n",
        "print(set2)"
      ],
      "metadata": {
        "colab": {
          "base_uri": "https://localhost:8080/"
        },
        "id": "ZtXzs3tZ87DU",
        "outputId": "ce4c4f66-3f89-4e7d-e421-f8cc2cc517ca"
      },
      "execution_count": 27,
      "outputs": [
        {
          "output_type": "stream",
          "name": "stdout",
          "text": [
            "set()\n"
          ]
        }
      ]
    },
    {
      "cell_type": "code",
      "source": [
        "#18. Write a code to remove the element 4 from the set {1, 2, 3, 4}.\n",
        "set3 = {1, 2, 3, 4}\n",
        "set3.remove(4)\n",
        "print(set3)"
      ],
      "metadata": {
        "colab": {
          "base_uri": "https://localhost:8080/"
        },
        "id": "pVKsVI_e87F6",
        "outputId": "0c8ab699-ddf4-4a96-de2d-547b38cc8bc6"
      },
      "execution_count": 28,
      "outputs": [
        {
          "output_type": "stream",
          "name": "stdout",
          "text": [
            "{1, 2, 3}\n"
          ]
        }
      ]
    },
    {
      "cell_type": "code",
      "source": [
        "# 19.  Write a code to find the union of two sets {1, 2, 3} and {3, 4, 5}.\n",
        "set1 = {1, 2, 3}\n",
        "set2 = {3, 4, 5}\n",
        "set1|set2"
      ],
      "metadata": {
        "colab": {
          "base_uri": "https://localhost:8080/"
        },
        "id": "ErBopURX87Iu",
        "outputId": "84bfadf9-8128-4c35-9b77-afaf97e3a7b9"
      },
      "execution_count": 29,
      "outputs": [
        {
          "output_type": "execute_result",
          "data": {
            "text/plain": [
              "{1, 2, 3, 4, 5}"
            ]
          },
          "metadata": {},
          "execution_count": 29
        }
      ]
    },
    {
      "cell_type": "code",
      "source": [
        "# 20. Write a code to find the intersection of two sets {1, 2, 3} and {2, 3, 4}.\n",
        "set1 = {1, 2, 3}\n",
        "set2 = {3, 4, 5}\n",
        "set1&set2"
      ],
      "metadata": {
        "colab": {
          "base_uri": "https://localhost:8080/"
        },
        "id": "p-wb5FEZ87Lb",
        "outputId": "fec3a3e5-533f-4121-b59a-4cd37dd3159d"
      },
      "execution_count": 30,
      "outputs": [
        {
          "output_type": "execute_result",
          "data": {
            "text/plain": [
              "{3}"
            ]
          },
          "metadata": {},
          "execution_count": 30
        }
      ]
    },
    {
      "cell_type": "code",
      "source": [
        "#21.  Write a code to create a dictionary with the keys \"name\", \"age\", and \"city\", and print it.\n",
        "dic = {\"name\": \"alice\",\"age\":22, \"city\": \"pune\"}\n",
        "print(dic)"
      ],
      "metadata": {
        "colab": {
          "base_uri": "https://localhost:8080/"
        },
        "id": "UEucyAj987OT",
        "outputId": "e2937be9-42f3-439c-ce9b-be548a65c7ca"
      },
      "execution_count": 31,
      "outputs": [
        {
          "output_type": "stream",
          "name": "stdout",
          "text": [
            "{'name': 'alice', 'age': 22, 'city': 'pune'}\n"
          ]
        }
      ]
    },
    {
      "cell_type": "code",
      "source": [
        "# 22.Write a code to add a new key-value pair \"country\": \"USA\" to the dictionary {'name': 'John', 'age': 25}.\n",
        "dic = {'name': 'John', 'age': 25}\n",
        "dic[\"country\"] = \"USA\"\n",
        "print(dic)"
      ],
      "metadata": {
        "colab": {
          "base_uri": "https://localhost:8080/"
        },
        "id": "NG_y0Tm187Qw",
        "outputId": "3ce63521-4650-475f-e34c-6d681c4aa0a4"
      },
      "execution_count": 32,
      "outputs": [
        {
          "output_type": "stream",
          "name": "stdout",
          "text": [
            "{'name': 'John', 'age': 25, 'country': 'USA'}\n"
          ]
        }
      ]
    },
    {
      "cell_type": "code",
      "source": [
        "#23.Write a code to access the value associated with the key \"name\" in the dictionary {'name': 'Alice', 'age': 30}.\n",
        "dic = {'name': 'Alice', 'age': 30}\n",
        "print(dic[\"name\"])"
      ],
      "metadata": {
        "colab": {
          "base_uri": "https://localhost:8080/"
        },
        "id": "MEFef0Uo87Tx",
        "outputId": "0192476f-ec34-4c78-840a-8d0af3bb1454"
      },
      "execution_count": 33,
      "outputs": [
        {
          "output_type": "stream",
          "name": "stdout",
          "text": [
            "Alice\n"
          ]
        }
      ]
    },
    {
      "cell_type": "code",
      "source": [
        "# 24.  Write a code to remove the key \"age\" from the dictionary {'name': 'Bob', 'age': 22, 'city': 'New York'}.\n",
        "dic =  {'name': 'Bob', 'age': 22, 'city': 'New York'}\n",
        "dic.pop(\"age\")\n",
        "print(dic)"
      ],
      "metadata": {
        "colab": {
          "base_uri": "https://localhost:8080/"
        },
        "id": "H77w1QKQ87XE",
        "outputId": "8ba92f14-90c8-43c2-bda7-ee5af8624599"
      },
      "execution_count": 34,
      "outputs": [
        {
          "output_type": "stream",
          "name": "stdout",
          "text": [
            "{'name': 'Bob', 'city': 'New York'}\n"
          ]
        }
      ]
    },
    {
      "cell_type": "code",
      "source": [
        "#25. Write a code to check if the key \"city\" exists in the dictionary  {'name': 'Alice', 'city': 'Paris'}..\n",
        "dic = {'name': 'Alice', 'city': 'Paris'}\n",
        "\"city\" in dic"
      ],
      "metadata": {
        "colab": {
          "base_uri": "https://localhost:8080/"
        },
        "id": "pq1blVH387ZX",
        "outputId": "17f24773-8c87-46ae-c76e-851ea48f67cb"
      },
      "execution_count": 35,
      "outputs": [
        {
          "output_type": "execute_result",
          "data": {
            "text/plain": [
              "True"
            ]
          },
          "metadata": {},
          "execution_count": 35
        }
      ]
    },
    {
      "cell_type": "code",
      "source": [
        "#26. Write a code to create a list, a tuple, and a dictionary, and print them all.\n",
        "list = [1,2,3,4,5]\n",
        "tuple = (1,2,3,4,5)\n",
        "dic = {\"name\": \"alice\", \"age\": 23,\"city\":\"pune\"}\n",
        "print(list)\n",
        "print(tuple)\n",
        "print(dic)"
      ],
      "metadata": {
        "colab": {
          "base_uri": "https://localhost:8080/"
        },
        "id": "F7lWDwH487cv",
        "outputId": "6ad89f40-f56c-4c42-fb92-eaec6b1696e7"
      },
      "execution_count": 38,
      "outputs": [
        {
          "output_type": "stream",
          "name": "stdout",
          "text": [
            "[1, 2, 3, 4, 5]\n",
            "(1, 2, 3, 4, 5)\n",
            "{'name': 'alice', 'age': 23, 'city': 'pune'}\n"
          ]
        }
      ]
    },
    {
      "cell_type": "code",
      "source": [
        "#27.  Write a code to create a list of 5 random numbers between 1 and 100, sort it in ascending order, and print the result.(replaced)\n",
        "import random\n",
        "list = [random.randint(1,100) for  i in range(5)]\n",
        "list.sort()\n",
        "print(list)\n",
        ""
      ],
      "metadata": {
        "colab": {
          "base_uri": "https://localhost:8080/"
        },
        "id": "BMNAvRwAA5ze",
        "outputId": "4408858e-c65a-4e46-fc39-e4e8a715bc35"
      },
      "execution_count": 44,
      "outputs": [
        {
          "output_type": "stream",
          "name": "stdout",
          "text": [
            "[11, 44, 47, 59, 65]\n"
          ]
        }
      ]
    },
    {
      "cell_type": "code",
      "source": [
        "#28.  Write a code to create a list with strings and print the element at the third index.\n",
        "list = [\"onion\",\"patato\",\"ginger\",\"garlic\",\"cloves\"]\n",
        "print(list[3])"
      ],
      "metadata": {
        "colab": {
          "base_uri": "https://localhost:8080/"
        },
        "id": "xJDN5sURA6AN",
        "outputId": "f17f0e9d-8cc8-4a7f-f899-89522558a192"
      },
      "execution_count": 45,
      "outputs": [
        {
          "output_type": "stream",
          "name": "stdout",
          "text": [
            "garlic\n"
          ]
        }
      ]
    },
    {
      "cell_type": "code",
      "source": [
        "# 29. Write a code to combine two dictionaries into one and print the result.\n",
        "dic1 = {\"name\": \"alice\",\"age\":22, \"city\": \"pune\"}\n",
        "dic2 = {\"class\":\"10th\",\"subject\": \"maths\",\"grade\": \"A\"}\n",
        "dic1.update(dic2)\n",
        "print(dic1)\n"
      ],
      "metadata": {
        "colab": {
          "base_uri": "https://localhost:8080/"
        },
        "id": "eBl9K7JJA6Zw",
        "outputId": "5cc0e547-f8cb-4cc5-f0d7-c931f50dba77"
      },
      "execution_count": 51,
      "outputs": [
        {
          "output_type": "stream",
          "name": "stdout",
          "text": [
            "{'name': 'alice', 'age': 22, 'city': 'pune', 'class': '10th', 'subject': 'maths', 'grade': 'A'}\n"
          ]
        }
      ]
    },
    {
      "cell_type": "code",
      "source": [
        "# 30. Write a code to convert a list of strings into a set.\n",
        "list = [\"onion\",\"patato\",\"ginger\",\"garlic\",\"cloves\",\"ginger\"]\n",
        "set1 = set(list)\n",
        "print(set1)\n"
      ],
      "metadata": {
        "colab": {
          "base_uri": "https://localhost:8080/"
        },
        "id": "tlqf01QoEJnb",
        "outputId": "5ea5a1b3-196b-4a6b-b03f-adb13a092401"
      },
      "execution_count": 52,
      "outputs": [
        {
          "output_type": "stream",
          "name": "stdout",
          "text": [
            "{'cloves', 'garlic', 'ginger', 'patato', 'onion'}\n"
          ]
        }
      ]
    }
  ]
}